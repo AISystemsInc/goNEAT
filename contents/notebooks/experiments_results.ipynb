{
 "cells": [
  {
   "cell_type": "markdown",
   "id": "9de8d0b1",
   "metadata": {},
   "source": [
    "# Study of experiment results\n",
    "\n",
    "After execution of each experiment the results of execution will be saved in Numpy NPZ format. The saved data can be used to analyse and visualize the evolutionary process.\n",
    "\n",
    "In this notebook we are going to examine results of experiments provided with goNEAT implementation."
   ]
  },
  {
   "cell_type": "code",
   "execution_count": 1,
   "id": "a670043c",
   "metadata": {},
   "outputs": [],
   "source": [
    "import numpy as np\n",
    "import matplotlib.pyplot as plt\n",
    "import seaborn as sns\n",
    "import pandas as pd"
   ]
  },
  {
   "cell_type": "markdown",
   "id": "c00ff4cb",
   "metadata": {},
   "source": [
    "## The XOR experiment results\n",
    "\n",
    "We are going to start with the most basic experiment - XOR experiment. You can start it be executing the following command from the root directory of the repository:\n",
    "\n",
    "```bash\n",
    "$ run-xor\n",
    "```\n",
    "\n",
    "By default the results of the experiment will be saved to the [**out/xor**] folder and the collected experimental data will be saved to the [**out/xor/XOR.npz**] file.\n",
    "\n",
    "We are going to use that file to examine experimental results. Your results may vary from our results, however the general direction remain the same."
   ]
  },
  {
   "cell_type": "code",
   "execution_count": 2,
   "id": "a3044814",
   "metadata": {},
   "outputs": [
    {
     "name": "stdout",
     "output_type": "stream",
     "text": [
      "trials_fitness\n",
      "trials_ages\n",
      "trials_complexity\n",
      "trial_0_epoch_mean_fitnesses\n",
      "trial_0_epoch_mean_ages\n",
      "trial_0_epoch_mean_complexities\n",
      "trial_0_epoch_best_fitnesses\n",
      "trial_0_epoch_best_ages\n",
      "trial_0_epoch_best_complexities\n",
      "trial_0_epoch_diversity\n",
      "trial_1_epoch_mean_fitnesses\n",
      "trial_1_epoch_mean_ages\n",
      "trial_1_epoch_mean_complexities\n",
      "trial_1_epoch_best_fitnesses\n",
      "trial_1_epoch_best_ages\n",
      "trial_1_epoch_best_complexities\n",
      "trial_1_epoch_diversity\n",
      "trial_2_epoch_mean_fitnesses\n",
      "trial_2_epoch_mean_ages\n",
      "trial_2_epoch_mean_complexities\n",
      "trial_2_epoch_best_fitnesses\n",
      "trial_2_epoch_best_ages\n",
      "trial_2_epoch_best_complexities\n",
      "trial_2_epoch_diversity\n",
      "trial_3_epoch_mean_fitnesses\n",
      "trial_3_epoch_mean_ages\n",
      "trial_3_epoch_mean_complexities\n",
      "trial_3_epoch_best_fitnesses\n",
      "trial_3_epoch_best_ages\n",
      "trial_3_epoch_best_complexities\n",
      "trial_3_epoch_diversity\n",
      "trial_4_epoch_mean_fitnesses\n",
      "trial_4_epoch_mean_ages\n",
      "trial_4_epoch_mean_complexities\n",
      "trial_4_epoch_best_fitnesses\n",
      "trial_4_epoch_best_ages\n",
      "trial_4_epoch_best_complexities\n",
      "trial_4_epoch_diversity\n",
      "trial_5_epoch_mean_fitnesses\n",
      "trial_5_epoch_mean_ages\n",
      "trial_5_epoch_mean_complexities\n",
      "trial_5_epoch_best_fitnesses\n",
      "trial_5_epoch_best_ages\n",
      "trial_5_epoch_best_complexities\n",
      "trial_5_epoch_diversity\n",
      "trial_6_epoch_mean_fitnesses\n",
      "trial_6_epoch_mean_ages\n",
      "trial_6_epoch_mean_complexities\n",
      "trial_6_epoch_best_fitnesses\n",
      "trial_6_epoch_best_ages\n",
      "trial_6_epoch_best_complexities\n",
      "trial_6_epoch_diversity\n",
      "trial_7_epoch_mean_fitnesses\n",
      "trial_7_epoch_mean_ages\n",
      "trial_7_epoch_mean_complexities\n",
      "trial_7_epoch_best_fitnesses\n",
      "trial_7_epoch_best_ages\n",
      "trial_7_epoch_best_complexities\n",
      "trial_7_epoch_diversity\n",
      "trial_8_epoch_mean_fitnesses\n",
      "trial_8_epoch_mean_ages\n",
      "trial_8_epoch_mean_complexities\n",
      "trial_8_epoch_best_fitnesses\n",
      "trial_8_epoch_best_ages\n",
      "trial_8_epoch_best_complexities\n",
      "trial_8_epoch_diversity\n",
      "trial_9_epoch_mean_fitnesses\n",
      "trial_9_epoch_mean_ages\n",
      "trial_9_epoch_mean_complexities\n",
      "trial_9_epoch_best_fitnesses\n",
      "trial_9_epoch_best_ages\n",
      "trial_9_epoch_best_complexities\n",
      "trial_9_epoch_diversity\n"
     ]
    }
   ],
   "source": [
    "# Loading the NPZ file\n",
    "xor_data = np.load('XOR.npz')\n",
    "\n",
    "# Printing the content of the file\n",
    "for f in xor_data:\n",
    "    print(f)\n"
   ]
  },
  {
   "cell_type": "code",
   "execution_count": 3,
   "id": "c41c4de7",
   "metadata": {},
   "outputs": [
    {
     "data": {
      "text/html": [
       "<div>\n",
       "<style scoped>\n",
       "    .dataframe tbody tr th:only-of-type {\n",
       "        vertical-align: middle;\n",
       "    }\n",
       "\n",
       "    .dataframe tbody tr th {\n",
       "        vertical-align: top;\n",
       "    }\n",
       "\n",
       "    .dataframe thead th {\n",
       "        text-align: right;\n",
       "    }\n",
       "</style>\n",
       "<table border=\"1\" class=\"dataframe\">\n",
       "  <thead>\n",
       "    <tr style=\"text-align: right;\">\n",
       "      <th></th>\n",
       "      <th>fitness</th>\n",
       "      <th>complexity</th>\n",
       "      <th>diversity</th>\n",
       "      <th>age</th>\n",
       "    </tr>\n",
       "  </thead>\n",
       "  <tbody>\n",
       "    <tr>\n",
       "      <th>count</th>\n",
       "      <td>71.000000</td>\n",
       "      <td>71.000000</td>\n",
       "      <td>71.000000</td>\n",
       "      <td>71.000000</td>\n",
       "    </tr>\n",
       "    <tr>\n",
       "      <th>mean</th>\n",
       "      <td>1.627044</td>\n",
       "      <td>9.112676</td>\n",
       "      <td>29.676056</td>\n",
       "      <td>68.239437</td>\n",
       "    </tr>\n",
       "    <tr>\n",
       "      <th>std</th>\n",
       "      <td>1.959789</td>\n",
       "      <td>4.540451</td>\n",
       "      <td>15.632178</td>\n",
       "      <td>4.207017</td>\n",
       "    </tr>\n",
       "    <tr>\n",
       "      <th>min</th>\n",
       "      <td>0.032803</td>\n",
       "      <td>7.000000</td>\n",
       "      <td>1.000000</td>\n",
       "      <td>41.000000</td>\n",
       "    </tr>\n",
       "    <tr>\n",
       "      <th>25%</th>\n",
       "      <td>0.692308</td>\n",
       "      <td>7.000000</td>\n",
       "      <td>17.500000</td>\n",
       "      <td>69.000000</td>\n",
       "    </tr>\n",
       "    <tr>\n",
       "      <th>50%</th>\n",
       "      <td>1.500000</td>\n",
       "      <td>7.000000</td>\n",
       "      <td>30.000000</td>\n",
       "      <td>70.000000</td>\n",
       "    </tr>\n",
       "    <tr>\n",
       "      <th>75%</th>\n",
       "      <td>1.802319</td>\n",
       "      <td>11.000000</td>\n",
       "      <td>42.500000</td>\n",
       "      <td>70.000000</td>\n",
       "    </tr>\n",
       "    <tr>\n",
       "      <th>max</th>\n",
       "      <td>15.734502</td>\n",
       "      <td>36.000000</td>\n",
       "      <td>52.000000</td>\n",
       "      <td>70.000000</td>\n",
       "    </tr>\n",
       "  </tbody>\n",
       "</table>\n",
       "</div>"
      ],
      "text/plain": [
       "         fitness  complexity  diversity        age\n",
       "count  71.000000   71.000000  71.000000  71.000000\n",
       "mean    1.627044    9.112676  29.676056  68.239437\n",
       "std     1.959789    4.540451  15.632178   4.207017\n",
       "min     0.032803    7.000000   1.000000  41.000000\n",
       "25%     0.692308    7.000000  17.500000  69.000000\n",
       "50%     1.500000    7.000000  30.000000  70.000000\n",
       "75%     1.802319   11.000000  42.500000  70.000000\n",
       "max    15.734502   36.000000  52.000000  70.000000"
      ]
     },
     "execution_count": 3,
     "metadata": {},
     "output_type": "execute_result"
    }
   ],
   "source": [
    "# We are going to convert results of 8-th trial to the Pandas data frame for better maintainability\n",
    "# The data frame will be constructed from the results collected from the best organisms (champions) found in each\n",
    "# generation (epoch) of evolution.\n",
    "xor_best_org_df_8 = pd.DataFrame(\n",
    "    {\n",
    "        \"fitness\": xor_data['trial_8_epoch_best_fitnesses'],\n",
    "        \"complexity\": xor_data['trial_8_epoch_best_complexities'],\n",
    "        \"diversity\": xor_data['trial_8_epoch_diversity'],\n",
    "        \"age\": xor_data['trial_8_epoch_best_ages'],\n",
    "    }\n",
    ")\n",
    "\n",
    "# Now lets look into the statistics of the collected data\n",
    "xor_best_org_df_8.describe()"
   ]
  },
  {
   "cell_type": "markdown",
   "id": "f9b0743d",
   "metadata": {},
   "source": [
    "From the table we can see that trial took 71 generation to complete, i.e., to find the successful solver of the XOR experiment. The mean age of winner species is close to the number of generations executed (68.239437), which means that many of the winner species survived almost until successful solver was found by evolution (at least 50%).\n",
    "\n",
    "Another interesting point to notice is the maximal value of the diversity of the population. The diversity is the number of species in the population. For XOR experiment we used population of 200 organisms. If diversity has value 52 it means that most of the species include only two to three organisms. We got very diverse population with tiny species.\n",
    "\n",
    "The maximal fitness score is close to the maximal possible (16.0) and considerably exceeds the threshold value of 15.5, which was used to define the successful solver."
   ]
  },
  {
   "cell_type": "code",
   "execution_count": 4,
   "id": "b677bc02",
   "metadata": {},
   "outputs": [
    {
     "data": {
      "image/png": "[encoded data removed]",
      "text/plain": [
       "<Figure size 432x288 with 1 Axes>"
      ]
     },
     "metadata": {
      "needs_background": "light"
     },
     "output_type": "display_data"
    }
   ],
   "source": [
    "# Now we are going to plot all collected data in one plot as the collected values approximately in the same scale\n",
    "ax = sns.lineplot(data=xor_best_org_df_8)\n",
    "ax.set_xlabel('epochs')\n",
    "plt.show()"
   ]
  },
  {
   "cell_type": "markdown",
   "id": "8704e4b8",
   "metadata": {},
   "source": [
    "The plot above confirms our previous observations and demonstrates that diversity of the population (# of species) increased during the evolution with old species still remaining in the genetic pool. It is interesting to note the massive extinction event occured at about generation #56 when about half of old species was rejected by evolution. Our assumption, that it was caused by sudden spike of genome complexity happened at the same epoch wich was making species too cumbersome to continue the evolution.\n",
    "\n",
    "The optimal genome configuration of the successful XOR solver is to have 5 nodes with 7 connection genes. \n",
    "The five nodes of the optimal genome as follows:\n",
    "* two input nodes\n",
    "* one bias node\n",
    "* one output node\n",
    "* one hidden node (found during the evolution)\n",
    "\n",
    "In the trial #8 the optimal genome was not found. However, in trial #7 it was found.\n",
    "\n",
    "It could be interesting to compare the results collected for these both trials to see the difference."
   ]
  },
  {
   "cell_type": "code",
   "execution_count": 5,
   "id": "376c6607",
   "metadata": {},
   "outputs": [
    {
     "data": {
      "text/html": [
       "<div>\n",
       "<style scoped>\n",
       "    .dataframe tbody tr th:only-of-type {\n",
       "        vertical-align: middle;\n",
       "    }\n",
       "\n",
       "    .dataframe tbody tr th {\n",
       "        vertical-align: top;\n",
       "    }\n",
       "\n",
       "    .dataframe thead th {\n",
       "        text-align: right;\n",
       "    }\n",
       "</style>\n",
       "<table border=\"1\" class=\"dataframe\">\n",
       "  <thead>\n",
       "    <tr style=\"text-align: right;\">\n",
       "      <th></th>\n",
       "      <th>fitness</th>\n",
       "      <th>complexity</th>\n",
       "      <th>diversity</th>\n",
       "      <th>age</th>\n",
       "    </tr>\n",
       "  </thead>\n",
       "  <tbody>\n",
       "    <tr>\n",
       "      <th>count</th>\n",
       "      <td>18.000000</td>\n",
       "      <td>18.000000</td>\n",
       "      <td>18.000000</td>\n",
       "      <td>18.000000</td>\n",
       "    </tr>\n",
       "    <tr>\n",
       "      <th>mean</th>\n",
       "      <td>1.274090</td>\n",
       "      <td>9.611111</td>\n",
       "      <td>11.944444</td>\n",
       "      <td>14.055556</td>\n",
       "    </tr>\n",
       "    <tr>\n",
       "      <th>std</th>\n",
       "      <td>3.621386</td>\n",
       "      <td>2.725455</td>\n",
       "      <td>8.270943</td>\n",
       "      <td>3.038425</td>\n",
       "    </tr>\n",
       "    <tr>\n",
       "      <th>min</th>\n",
       "      <td>0.036416</td>\n",
       "      <td>7.000000</td>\n",
       "      <td>1.000000</td>\n",
       "      <td>11.000000</td>\n",
       "    </tr>\n",
       "    <tr>\n",
       "      <th>25%</th>\n",
       "      <td>0.125074</td>\n",
       "      <td>7.000000</td>\n",
       "      <td>3.750000</td>\n",
       "      <td>11.000000</td>\n",
       "    </tr>\n",
       "    <tr>\n",
       "      <th>50%</th>\n",
       "      <td>0.450120</td>\n",
       "      <td>9.500000</td>\n",
       "      <td>12.000000</td>\n",
       "      <td>14.500000</td>\n",
       "    </tr>\n",
       "    <tr>\n",
       "      <th>75%</th>\n",
       "      <td>0.729051</td>\n",
       "      <td>12.000000</td>\n",
       "      <td>18.000000</td>\n",
       "      <td>17.000000</td>\n",
       "    </tr>\n",
       "    <tr>\n",
       "      <th>max</th>\n",
       "      <td>15.722252</td>\n",
       "      <td>14.000000</td>\n",
       "      <td>26.000000</td>\n",
       "      <td>17.000000</td>\n",
       "    </tr>\n",
       "  </tbody>\n",
       "</table>\n",
       "</div>"
      ],
      "text/plain": [
       "         fitness  complexity  diversity        age\n",
       "count  18.000000   18.000000  18.000000  18.000000\n",
       "mean    1.274090    9.611111  11.944444  14.055556\n",
       "std     3.621386    2.725455   8.270943   3.038425\n",
       "min     0.036416    7.000000   1.000000  11.000000\n",
       "25%     0.125074    7.000000   3.750000  11.000000\n",
       "50%     0.450120    9.500000  12.000000  14.500000\n",
       "75%     0.729051   12.000000  18.000000  17.000000\n",
       "max    15.722252   14.000000  26.000000  17.000000"
      ]
     },
     "execution_count": 5,
     "metadata": {},
     "output_type": "execute_result"
    }
   ],
   "source": [
    "xor_best_org_df_7 = pd.DataFrame(\n",
    "    {\n",
    "        \"fitness\": xor_data['trial_7_epoch_best_fitnesses'],\n",
    "        \"complexity\": xor_data['trial_7_epoch_best_complexities'],\n",
    "        \"diversity\": xor_data['trial_7_epoch_diversity'],\n",
    "        \"age\": xor_data['trial_7_epoch_best_ages'],\n",
    "    }\n",
    ")\n",
    "\n",
    "# Now lets look into the statistics of the collected data\n",
    "xor_best_org_df_7.describe()"
   ]
  },
  {
   "cell_type": "markdown",
   "id": "edcc4e43",
   "metadata": {},
   "source": [
    "We can see that trial #7 was able to find successful solver in only 18 generations.\n",
    "\n",
    "Now, lets see how best species performed during the evolution in this trial."
   ]
  },
  {
   "cell_type": "code",
   "execution_count": 6,
   "id": "6ab3ecca",
   "metadata": {},
   "outputs": [
    {
     "data": {
      "image/png": "[encoded data removed]",
      "text/plain": [
       "<Figure size 432x288 with 1 Axes>"
      ]
     },
     "metadata": {
      "needs_background": "light"
     },
     "output_type": "display_data"
    }
   ],
   "source": [
    "# Now we are going to plot all collected data in one plot as the collected values approximately in the same scale\n",
    "ticks = len(xor_best_org_df_7['fitness'])\n",
    "ax = sns.lineplot(data=xor_best_org_df_7)\n",
    "ax.set_xlabel('epochs')\n",
    "ax.set_xticks(range(0, ticks))\n",
    "plt.show()"
   ]
  },
  {
   "cell_type": "markdown",
   "id": "75743853",
   "metadata": {},
   "source": [
    "As in previous example, we can see that number of active species (diversity) increases with each epoch of the evolution and many species survive until the successfull solver was found. Also, at the middle of the evolutionary process we can see sudden jump in the complexity of the genomes, which caused mass extinction of old species (about third of original species) and creation of younger ones. After that, starting from epoch #10 the genome's compexity become optimal (12 = 5 + 7) and evolutionary process only worked to find the relevant weights of connections between nodes of the genome.\n",
    "\n",
    "The successfull solver was found in sudden evolutionary leap when fitness of the champion organism in the population increased almost eightfold. This is typical for evolutionary processes we observed before. The evolution tries variety of low performing combinations until finding one suitable in one quick move."
   ]
  },
  {
   "cell_type": "markdown",
   "id": "06b2d038",
   "metadata": {},
   "source": [
    "## The cart-pole experiment results\n",
    "\n",
    "Now, let's consider results of more advanced experiment and see how it looks compared to the XOR experiment outlined above.\n",
    "\n",
    "You can run it by executing the following command in the root folder of this repository:\n",
    "```bash\n",
    "$ make run-cartpole\n",
    "```\n",
    "\n",
    "We start with loading experiment data and visualization, the same as previously."
   ]
  },
  {
   "cell_type": "code",
   "execution_count": 7,
   "id": "30e0210a",
   "metadata": {},
   "outputs": [],
   "source": [
    "# Loading the NPZ file\n",
    "cart_pole_data = np.load('cart_pole.npz')\n",
    "\n",
    "# Printing the content of the file\n",
    "# for f in cart_pole_data:\n",
    "#     print(f)"
   ]
  },
  {
   "cell_type": "code",
   "execution_count": 8,
   "id": "76726dce",
   "metadata": {},
   "outputs": [
    {
     "data": {
      "text/html": [
       "<div>\n",
       "<style scoped>\n",
       "    .dataframe tbody tr th:only-of-type {\n",
       "        vertical-align: middle;\n",
       "    }\n",
       "\n",
       "    .dataframe tbody tr th {\n",
       "        vertical-align: top;\n",
       "    }\n",
       "\n",
       "    .dataframe thead th {\n",
       "        text-align: right;\n",
       "    }\n",
       "</style>\n",
       "<table border=\"1\" class=\"dataframe\">\n",
       "  <thead>\n",
       "    <tr style=\"text-align: right;\">\n",
       "      <th></th>\n",
       "      <th>fitness</th>\n",
       "      <th>complexity</th>\n",
       "      <th>diversity</th>\n",
       "      <th>age</th>\n",
       "    </tr>\n",
       "  </thead>\n",
       "  <tbody>\n",
       "    <tr>\n",
       "      <th>count</th>\n",
       "      <td>31.000000</td>\n",
       "      <td>31.00000</td>\n",
       "      <td>31.000000</td>\n",
       "      <td>31.00000</td>\n",
       "    </tr>\n",
       "    <tr>\n",
       "      <th>mean</th>\n",
       "      <td>0.182451</td>\n",
       "      <td>19.00000</td>\n",
       "      <td>70.548387</td>\n",
       "      <td>10.00000</td>\n",
       "    </tr>\n",
       "    <tr>\n",
       "      <th>std</th>\n",
       "      <td>0.196707</td>\n",
       "      <td>1.48324</td>\n",
       "      <td>35.088306</td>\n",
       "      <td>5.46504</td>\n",
       "    </tr>\n",
       "    <tr>\n",
       "      <th>min</th>\n",
       "      <td>0.002151</td>\n",
       "      <td>17.00000</td>\n",
       "      <td>1.000000</td>\n",
       "      <td>1.00000</td>\n",
       "    </tr>\n",
       "    <tr>\n",
       "      <th>25%</th>\n",
       "      <td>0.063178</td>\n",
       "      <td>18.00000</td>\n",
       "      <td>42.500000</td>\n",
       "      <td>6.00000</td>\n",
       "    </tr>\n",
       "    <tr>\n",
       "      <th>50%</th>\n",
       "      <td>0.124977</td>\n",
       "      <td>19.00000</td>\n",
       "      <td>82.000000</td>\n",
       "      <td>9.00000</td>\n",
       "    </tr>\n",
       "    <tr>\n",
       "      <th>75%</th>\n",
       "      <td>0.212611</td>\n",
       "      <td>20.00000</td>\n",
       "      <td>98.500000</td>\n",
       "      <td>15.00000</td>\n",
       "    </tr>\n",
       "    <tr>\n",
       "      <th>max</th>\n",
       "      <td>1.000000</td>\n",
       "      <td>24.00000</td>\n",
       "      <td>105.000000</td>\n",
       "      <td>21.00000</td>\n",
       "    </tr>\n",
       "  </tbody>\n",
       "</table>\n",
       "</div>"
      ],
      "text/plain": [
       "         fitness  complexity   diversity       age\n",
       "count  31.000000    31.00000   31.000000  31.00000\n",
       "mean    0.182451    19.00000   70.548387  10.00000\n",
       "std     0.196707     1.48324   35.088306   5.46504\n",
       "min     0.002151    17.00000    1.000000   1.00000\n",
       "25%     0.063178    18.00000   42.500000   6.00000\n",
       "50%     0.124977    19.00000   82.000000   9.00000\n",
       "75%     0.212611    20.00000   98.500000  15.00000\n",
       "max     1.000000    24.00000  105.000000  21.00000"
      ]
     },
     "execution_count": 8,
     "metadata": {},
     "output_type": "execute_result"
    }
   ],
   "source": [
    "# We are going to convert results of 9-th trial to the Pandas data frame for better maintainability\n",
    "# The data frame will be constructed from the results collected from the best organisms (champions) found in each\n",
    "# generation (epoch) of evolution.\n",
    "cart_pole_best_org_df_9 = pd.DataFrame(\n",
    "    {\n",
    "        \"fitness\": cart_pole_data['trial_9_epoch_best_fitnesses'],\n",
    "        \"complexity\": cart_pole_data['trial_9_epoch_best_complexities'],\n",
    "        \"diversity\": cart_pole_data['trial_9_epoch_diversity'],\n",
    "        \"age\": cart_pole_data['trial_9_epoch_best_ages'],\n",
    "    }\n",
    ")\n",
    "\n",
    "# Now lets look into the statistics of the collected data\n",
    "cart_pole_best_org_df_9.describe()"
   ]
  },
  {
   "cell_type": "code",
   "execution_count": 9,
   "id": "b71acc44",
   "metadata": {},
   "outputs": [
    {
     "data": {
      "image/png": "[encoded data removed]",
      "text/plain": [
       "<Figure size 432x288 with 1 Axes>"
      ]
     },
     "metadata": {
      "needs_background": "light"
     },
     "output_type": "display_data"
    }
   ],
   "source": [
    "# Now we are going to plot all collected data in one plot as the collected values approximately in the same scale\n",
    "ax = sns.lineplot(data=cart_pole_best_org_df_9)\n",
    "ax.set_xlabel('epochs')\n",
    "plt.show()"
   ]
  },
  {
   "cell_type": "markdown",
   "id": "f2939edf",
   "metadata": {},
   "source": [
    "In trial #9 of the Cart-Pole experiment we can see another interesting evolution path. The evolution started by accumulating the number of diverse species and quickly reached the theoretical maximum (we have population of 150 organims). After that at generation #23 the catastrophic drop of number of species happened (almost 10-fold) which continued by fast creation of the new species in the epochs that followed this event (almost 8-fold).\n",
    "\n",
    "Interesting to note, that complexity of the genomes remain almost constant through the evolutionary process."
   ]
  },
  {
   "cell_type": "markdown",
   "id": "89c0cb2f",
   "metadata": {},
   "source": [
    "## The Double-Pole Cart experiment\n",
    "\n",
    "After looking at experiment intended to find successful balancer of cart with single-pole we are ready to take a look at even more advanced variant. In this experiment, we are trying to find balancer able maintain equlibrium of the cart with two poles attached. We consider the Markovian version of this experiment.\n",
    "\n",
    "You can run it by executing the following command in the root folder of this repository:\n",
    "```bash\n",
    "$ make run-cartpole-two-markov\n",
    "```\n",
    "\n",
    "As usually, we start with loading the experiment data."
   ]
  },
  {
   "cell_type": "code",
   "execution_count": 10,
   "id": "89f75035",
   "metadata": {},
   "outputs": [],
   "source": [
    "# Loading the NPZ file\n",
    "cart_2pole_data = np.load('cart_2pole_markov.npz')\n",
    "\n",
    "# Printing the content of the file\n",
    "# for f in cart_2pole_data:\n",
    "#     print(f)"
   ]
  },
  {
   "cell_type": "code",
   "execution_count": 11,
   "id": "b0f8133a",
   "metadata": {},
   "outputs": [
    {
     "data": {
      "text/html": [
       "<div>\n",
       "<style scoped>\n",
       "    .dataframe tbody tr th:only-of-type {\n",
       "        vertical-align: middle;\n",
       "    }\n",
       "\n",
       "    .dataframe tbody tr th {\n",
       "        vertical-align: top;\n",
       "    }\n",
       "\n",
       "    .dataframe thead th {\n",
       "        text-align: right;\n",
       "    }\n",
       "</style>\n",
       "<table border=\"1\" class=\"dataframe\">\n",
       "  <thead>\n",
       "    <tr style=\"text-align: right;\">\n",
       "      <th></th>\n",
       "      <th>fitness</th>\n",
       "      <th>complexity</th>\n",
       "      <th>diversity</th>\n",
       "      <th>age</th>\n",
       "    </tr>\n",
       "  </thead>\n",
       "  <tbody>\n",
       "    <tr>\n",
       "      <th>count</th>\n",
       "      <td>20.000000</td>\n",
       "      <td>20.000000</td>\n",
       "      <td>20.000000</td>\n",
       "      <td>20.000000</td>\n",
       "    </tr>\n",
       "    <tr>\n",
       "      <th>mean</th>\n",
       "      <td>0.064654</td>\n",
       "      <td>21.800000</td>\n",
       "      <td>620.750000</td>\n",
       "      <td>11.550000</td>\n",
       "    </tr>\n",
       "    <tr>\n",
       "      <th>std</th>\n",
       "      <td>0.228458</td>\n",
       "      <td>8.294577</td>\n",
       "      <td>257.404837</td>\n",
       "      <td>5.206019</td>\n",
       "    </tr>\n",
       "    <tr>\n",
       "      <th>min</th>\n",
       "      <td>0.000002</td>\n",
       "      <td>15.000000</td>\n",
       "      <td>2.000000</td>\n",
       "      <td>3.000000</td>\n",
       "    </tr>\n",
       "    <tr>\n",
       "      <th>25%</th>\n",
       "      <td>0.000280</td>\n",
       "      <td>15.000000</td>\n",
       "      <td>565.750000</td>\n",
       "      <td>5.500000</td>\n",
       "    </tr>\n",
       "    <tr>\n",
       "      <th>50%</th>\n",
       "      <td>0.000777</td>\n",
       "      <td>16.000000</td>\n",
       "      <td>761.000000</td>\n",
       "      <td>15.000000</td>\n",
       "    </tr>\n",
       "    <tr>\n",
       "      <th>75%</th>\n",
       "      <td>0.001560</td>\n",
       "      <td>28.000000</td>\n",
       "      <td>795.750000</td>\n",
       "      <td>15.000000</td>\n",
       "    </tr>\n",
       "    <tr>\n",
       "      <th>max</th>\n",
       "      <td>1.000000</td>\n",
       "      <td>39.000000</td>\n",
       "      <td>822.000000</td>\n",
       "      <td>16.000000</td>\n",
       "    </tr>\n",
       "  </tbody>\n",
       "</table>\n",
       "</div>"
      ],
      "text/plain": [
       "         fitness  complexity   diversity        age\n",
       "count  20.000000   20.000000   20.000000  20.000000\n",
       "mean    0.064654   21.800000  620.750000  11.550000\n",
       "std     0.228458    8.294577  257.404837   5.206019\n",
       "min     0.000002   15.000000    2.000000   3.000000\n",
       "25%     0.000280   15.000000  565.750000   5.500000\n",
       "50%     0.000777   16.000000  761.000000  15.000000\n",
       "75%     0.001560   28.000000  795.750000  15.000000\n",
       "max     1.000000   39.000000  822.000000  16.000000"
      ]
     },
     "execution_count": 11,
     "metadata": {},
     "output_type": "execute_result"
    }
   ],
   "source": [
    "# We are going to convert results of 9-th trial to the Pandas data frame for better maintainability\n",
    "# The data frame will be constructed from the results collected from the best organisms (champions) found in each\n",
    "# generation (epoch) of evolution.\n",
    "cart_2pole_best_org_df_9 = pd.DataFrame(\n",
    "    {\n",
    "        \"fitness\": cart_2pole_data['trial_9_epoch_best_fitnesses'],\n",
    "        \"complexity\": cart_2pole_data['trial_9_epoch_best_complexities'],\n",
    "        \"diversity\": cart_2pole_data['trial_9_epoch_diversity'],\n",
    "        \"age\": cart_2pole_data['trial_9_epoch_best_ages'],\n",
    "    }\n",
    ")\n",
    "\n",
    "# Now lets look into the statistics of the collected data\n",
    "cart_2pole_best_org_df_9.describe()"
   ]
  },
  {
   "cell_type": "code",
   "execution_count": 12,
   "id": "ca8c90c9",
   "metadata": {},
   "outputs": [
    {
     "data": {
      "image/png": "[encoded data removed]",
      "text/plain": [
       "<Figure size 432x288 with 3 Axes>"
      ]
     },
     "metadata": {
      "needs_background": "light"
     },
     "output_type": "display_data"
    }
   ],
   "source": [
    "# Now we are going to plot all collected data in one plot as the collected values approximately in the same scale\n",
    "ticks = len(cart_2pole_best_org_df_9['fitness'])\n",
    "ax0 = plt.subplot(212)\n",
    "ax0.set_xlabel('epochs')\n",
    "ax0.set_xticks(range(0, ticks))\n",
    "sns.lineplot(data=cart_2pole_best_org_df_9[['complexity', 'age']], ax=ax0 )\n",
    "\n",
    "ax1 = plt.subplot(221)\n",
    "ax1.set_xlabel('epochs')\n",
    "sns.lineplot(data=cart_2pole_best_org_df_9[['diversity']], ax=ax1 )\n",
    "\n",
    "ax2 = plt.subplot(222)\n",
    "ax2.set_xlabel('epochs')\n",
    "sns.lineplot(data=cart_2pole_best_org_df_9[['fitness']], ax=ax2 )\n",
    "\n",
    "plt.tight_layout()\n",
    "plt.show()"
   ]
  },
  {
   "cell_type": "markdown",
   "id": "50c47ac6",
   "metadata": {},
   "source": [
    "In this experiment we used population of 1000 organisms. As in previous cases, you can see that diversity of the population almost reached theoretically possible (about 800). However, after genome complexity suddenly increased at generation #16, the diversity of the population began to decline rapidly."
   ]
  },
  {
   "cell_type": "markdown",
   "id": "f6c24ac6",
   "metadata": {},
   "source": [
    "## Discussion\n",
    "\n",
    "It is always a good idea to visualize the data collected during your experiments. We are visual beings, and good visualization always allows us to better understand the behavior of the process.\n",
    "\n",
    "The goNEAT library allows you to collect and save data into common formats (Numpy NPZ), which can later be analysed using plenty of available tools.\n",
    "\n",
    "With help of visualizations presented on this page we was able to make important conclusions about the evolutionary process. The one of the important conclusions is that increasing complexity of the genomes leads to extinction events. In such cases, the evolutionary process tries to rebalance existing species, either by replacing old with new ones, or by drastically reducing the size of the species.\n",
    "\n",
    "As a rule of a thumb, each extinction event, usually leads to discovery of the successfull solver over time. Thus, we can consider these events as benefitial."
   ]
  }
 ],
 "metadata": {
  "kernelspec": {
   "display_name": "Python 3",
   "language": "python",
   "name": "python3"
  },
  "language_info": {
   "codemirror_mode": {
    "name": "ipython",
    "version": 3
   },
   "file_extension": ".py",
   "mimetype": "text/x-python",
   "name": "python",
   "nbconvert_exporter": "python",
   "pygments_lexer": "ipython3",
   "version": "3.8.3"
  }
 },
 "nbformat": 4,
 "nbformat_minor": 5
}
